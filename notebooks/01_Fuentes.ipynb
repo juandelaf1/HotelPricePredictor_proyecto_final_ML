{
 "cells": [
  {
   "cell_type": "code",
   "execution_count": 1,
   "id": "7591e6c3",
   "metadata": {},
   "outputs": [
    {
     "name": "stderr",
     "output_type": "stream",
     "text": [
      "c:\\Users\\JUAN\\AppData\\Local\\Programs\\Python\\Python313\\Lib\\site-packages\\tqdm\\auto.py:21: TqdmWarning: IProgress not found. Please update jupyter and ipywidgets. See https://ipywidgets.readthedocs.io/en/stable/user_install.html\n",
      "  from .autonotebook import tqdm as notebook_tqdm\n"
     ]
    }
   ],
   "source": [
    "import kagglehub\n",
    "\n",
    " # Descarga el dataset desde Kaggle"
   ]
  },
  {
   "cell_type": "code",
   "execution_count": null,
   "id": "8629c94d",
   "metadata": {},
   "outputs": [],
   "source": [
    "kagglehub.dataset_download(\"ahsan81/hotel-reservations-classification-dataset\")"
   ]
  }
 ],
 "metadata": {
  "kernelspec": {
   "display_name": "Python 3",
   "language": "python",
   "name": "python3"
  },
  "language_info": {
   "codemirror_mode": {
    "name": "ipython",
    "version": 3
   },
   "file_extension": ".py",
   "mimetype": "text/x-python",
   "name": "python",
   "nbconvert_exporter": "python",
   "pygments_lexer": "ipython3",
   "version": "3.13.2"
  }
 },
 "nbformat": 4,
 "nbformat_minor": 5
}
