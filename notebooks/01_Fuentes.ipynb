{
 "cells": [
  {
   "cell_type": "code",
   "execution_count": null,
   "id": "0c4df7c4",
   "metadata": {},
   "outputs": [],
   "source": [
    "## 📂 Fuentes\n",
    "\n",
    "# Descargué el dataset de reservas de hotel desde Kaggle\n",
    "\n",
    "import kagglehub \n",
    "\n",
    "kagglehub.dataset_download(\"ahsan81/hotel-reservations-classification-dataset\") \n",
    "\n",
    "\n",
    "\n",
    "\n",
    "# Contiene información sobre reservas de hotel, incluyendo número de huéspedes, \n",
    "#   duración de la estancia, tipo de habitación y precio por noche.\n",
    "\n",
    "# Elegí este conjunto de datos porque tiene una variedad de características \n",
    "#   útiles para entrenar modelos y predecir precios de habitaciones con Machine Learning.\n",
    "\n",
    "# Los datos originales se han mantenido sin modificaciones en la carpeta `data/raw/` para referencia futura.\n",
    "\n",
    "\n",
    "\n",
    "\n",
    "\n",
    "\n",
    "\n"
   ]
  }
 ],
 "metadata": {
  "kernelspec": {
   "display_name": "Python 3",
   "language": "python",
   "name": "python3"
  },
  "language_info": {
   "codemirror_mode": {
    "name": "ipython",
    "version": 3
   },
   "file_extension": ".py",
   "mimetype": "text/x-python",
   "name": "python",
   "nbconvert_exporter": "python",
   "pygments_lexer": "ipython3",
   "version": "3.13.2"
  }
 },
 "nbformat": 4,
 "nbformat_minor": 5
}
